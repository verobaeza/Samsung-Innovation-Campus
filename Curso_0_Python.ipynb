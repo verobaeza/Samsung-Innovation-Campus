{
  "nbformat": 4,
  "nbformat_minor": 0,
  "metadata": {
    "colab": {
      "provenance": [],
      "include_colab_link": true
    },
    "kernelspec": {
      "name": "python3",
      "display_name": "Python 3"
    },
    "language_info": {
      "name": "python"
    }
  },
  "cells": [
    {
      "cell_type": "markdown",
      "metadata": {
        "id": "view-in-github",
        "colab_type": "text"
      },
      "source": [
        "<a href=\"https://colab.research.google.com/github/verobaeza/Samsung-Innovation-Campus/blob/main/Curso_0_Python.ipynb\" target=\"_parent\"><img src=\"https://colab.research.google.com/assets/colab-badge.svg\" alt=\"Open In Colab\"/></a>"
      ]
    },
    {
      "cell_type": "code",
      "execution_count": null,
      "metadata": {
        "id": "3Ib51jiGzjN1"
      },
      "outputs": [],
      "source": []
    },
    {
      "cell_type": "markdown",
      "source": [
        "# ¿Quiénes somos?\n",
        "## ¿Quiénes somos?\n",
        "### ¿Quiénes somos?\n",
        "#### ¿Quiénes somos?\n",
        "Somos una iniciativa de Samsung a nivel global enfocada en empoderar a toda una generación con habilidades 4.0 en un contexto impulsado por la tecnología.\n",
        "\n",
        "\n",
        "> ## +500\n",
        "> jóvenes chilenos certificados desde 2020 en competencias de codificación, programación, big data, IoT e inteligencia artificial.\n",
        "\n",
        "**Samsung Innovation Campus Chile** es un programa intensivo de Samsung que entrega competencias en IA, Big Data y programación. Junto a la ONG Innovacien hemos certificado a cientos de jóvenes desde 2020."
      ],
      "metadata": {
        "id": "vLmBA_ma0UTF"
      }
    },
    {
      "cell_type": "markdown",
      "source": [
        "![Imagen 1](https://innovationcampus.cl/wp-content/uploads/2025/05/Estudiantes-SIC-1.jpg)"
      ],
      "metadata": {
        "id": "3g52460S1Bxw"
      }
    },
    {
      "cell_type": "code",
      "source": [],
      "metadata": {
        "id": "ZJ2_p4I-1SpQ"
      },
      "execution_count": null,
      "outputs": []
    }
  ]
}